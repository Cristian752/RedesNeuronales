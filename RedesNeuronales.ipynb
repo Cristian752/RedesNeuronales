{
 "cells": [
  {
   "cell_type": "code",
   "execution_count": 2,
   "metadata": {},
   "outputs": [],
   "source": [
    "#importacion de librerias\n",
    "\n",
    "import os\n",
    "import pandas as pd\n",
    "from matplotlib import pyplot as plt #Linia extra para poder realizar la grafica\n",
    "import numpy as np #Linea extra "
   ]
  },
  {
   "cell_type": "code",
   "execution_count": 3,
   "metadata": {},
   "outputs": [],
   "source": [
    "# Establecer directorio de trabajo y cargar datos\n",
    "\n",
    "#os.chdir ('C: \\\\ Users \\\\ rohan \\\\ Documents \\\\ Analytics \\\\ Data')\n",
    "iris = pd.read_csv('https://gist.githubusercontent.com/curran/a08a1080b88344b0c8a7/raw/639388c2cbc2120a14dcf466e85730eb8be498bb/iris.csv')"
   ]
  },
  {
   "cell_type": "code",
   "execution_count": 4,
   "metadata": {},
   "outputs": [],
   "source": [
    "# Crear clases numéricas para especies (0,1,2) \n",
    "\n",
    "iris.loc[iris['species']=='virginica','species']=0\n",
    "iris.loc[iris['species']=='versicolor','species']=1\n",
    "iris.loc[iris['species']=='setosa','species'] = 2\n",
    "iris = iris[iris['species']!=2]"
   ]
  },
  {
   "cell_type": "code",
   "execution_count": 5,
   "metadata": {},
   "outputs": [],
   "source": [
    "# Crear entrada y salida columnas\n",
    "\n",
    "X = iris[['petal_length', 'petal_width']].values.T\n",
    "Y = iris[['species']].values.T\n",
    "Y = Y.astype('uint8')"
   ]
  },
  {
   "cell_type": "code",
   "execution_count": 6,
   "metadata": {},
   "outputs": [
    {
     "data": {
      "image/png": "[encoded data removed]",
      "text/plain": [
       "<Figure size 432x288 with 1 Axes>"
      ]
     },
     "metadata": {
      "needs_background": "light"
     },
     "output_type": "display_data"
    }
   ],
   "source": [
    "#Realiza un diagrama de dispersión\n",
    "\n",
    "plt.scatter(X[0, :], X[1, :], c=Y[0,:], s=40, cmap=plt.cm.Spectral);\n",
    "plt.title(\"IRIS DATA | Blue - Versicolor, Red - Virginica \")\n",
    "plt.xlabel('petal_length')\n",
    "plt.ylabel('petal_width')\n",
    "plt.show()"
   ]
  },
  {
   "cell_type": "code",
   "execution_count": 7,
   "metadata": {},
   "outputs": [],
   "source": [
    "# Los puntos azules representan las especies Versicolor y \n",
    "# los puntos rojos representan las especies Virginica. \n",
    "# Nuestra red neuronal entrenará estos datos para clasificar \n",
    "# correctamente las especies."
   ]
  },
  {
   "cell_type": "code",
   "execution_count": 8,
   "metadata": {},
   "outputs": [],
   "source": [
    "#Definimos los parametros que se van a recibir para establecer más adelante el tamño de la capa oculta 6\n",
    "def initialize_parameters(n_x, n_h, n_y):\n",
    "    np.random.seed(2) #Se configura una semilla para que nuestra salida coincida con la nuestra aunque la inicialización sea aleatoria.\n",
    "    W1 = np.random.randn(n_h, n_x) * 0.01 #Matriz de de peso, esta en la forma (n_h, n_x)\n",
    "    b1 = np.zeros (shape = (n_h, 1)) #Caminos del vector de la forma (n_h,1)\n",
    "    W2 = np.random.randn (n_y, n_h) * 0.01 #Matriz de peso, está en la forma (n_y,n_h)\n",
    "    b2 = np.zeros (shape = (n_y, 1)) #Caminos del vector de la forma (n_y,1)\n",
    "    #Se procede a almacenar cada uno de los parametros en un diccionario\n",
    "    parameters = {\"W1\": W1,\n",
    "                  \"b1\": b1,\n",
    "                  \"W2\": W2,\n",
    "                  \"b2\": b2}\n",
    "    return parameters #Retornamos los parametros almacenados en el diccionario\n",
    "#Definimos la funcion para definir el tamaño de la capa\n",
    "def layer_sizes(X, Y):\n",
    "    n_x = X.shape[0] # Tamaño de la capa de entrada\n",
    "    n_h = 6# Tamaño de la capa oculta\n",
    "    n_y = Y.shape[0] # Tamaño de la capa de salida\n",
    "    return (n_x, n_h, n_y)"
   ]
  },
  {
   "cell_type": "code",
   "execution_count": 9,
   "metadata": {},
   "outputs": [],
   "source": [
    "# En el paso de propagación hacia adelante, \n",
    "# usaremos tanh como la primera función de activación y \n",
    "# sigmoide como la segunda función de activación."
   ]
  },
  {
   "cell_type": "code",
   "execution_count": 10,
   "metadata": {},
   "outputs": [],
   "source": [
    "def forward_propagation(X, parameters):\n",
    "    \n",
    "# recuperar parámetros inicializados del diccionario \n",
    "    W1 = parameters['W1']\n",
    "    b1 = parameters['b1']\n",
    "    W2 = parameters['W2']\n",
    "    b2 = parameters['b2']\n",
    "    \n",
    "# Implementar la propagación directa para calcular A2\n",
    "    Z1 = np.dot(W1, X) + b1\n",
    "    A1 = np.tanh(Z1) #tanh función de activación\n",
    "    Z2 = np.dot(W2, A1) + b2\n",
    "    A2 = 1/(1+np.exp(-Z2))  # función de activación sigmoide\n",
    "    \n",
    "    cache = {\"Z1\": Z1,\n",
    "             \"A1\": A1,\n",
    "             \"Z2\": Z2,\n",
    "             \"A2\": A2}\n",
    "    \n",
    "    return A2, cache"
   ]
  },
  {
   "cell_type": "code",
   "execution_count": 11,
   "metadata": {},
   "outputs": [],
   "source": [
    "#Se implementa la función que nos permitira calcular el costo\n",
    "def compute_cost(A2, Y, parameters): #Parametros que recibira la funcion\n",
    "    m = Y.shape[1] #Numero de ejemplos para el entrenamiento\n",
    "    #Recuperamos la informacion de 'W1' y 'W2' de los parametros\n",
    "    W1 = parameters ['W1'] \n",
    "    W2 = parameters ['W2'] \n",
    "    #Calculamos el costo\n",
    "    logprobs = np.multiply(np.log(A2), Y) + np.multiply((1 - Y), np.log(1 - A2))\n",
    "    cost = - np.sum(logprobs) / m\n",
    "    \n",
    "    return cost #Se retorna el costo obtenido"
   ]
  },
  {
   "cell_type": "code",
   "execution_count": 12,
   "metadata": {},
   "outputs": [],
   "source": [
    "#Definimos una funcion con la cual calculamos las derivadas de la funcion de costos\n",
    "def backward_propagation(parameters, cache, X, Y): #Parametros que recibe la funcion\n",
    "    # Número de ejemplos de entrenamiento \n",
    "    m = X.shape [1] \n",
    "    #Primero procedemos a recuperar los parametros 'W1' y 'W2' del diccionario donde se encuentra la información de ellos\n",
    "    W1 = parameters['W1']\n",
    "    W2 = parameters['W2']\n",
    "    #Se finaliza el codigo aquí\n",
    "\n",
    "    #Se continua recuperando los parametros de 'A1'y 'A2' del diccionario caché.\n",
    "    A1 = cache['A1']\n",
    "    A2 = cache['A2']\n",
    "    \n",
    "    #Ahora si definimos la funcion 'Propagación hacia atrás:' calcular dW1, db1, dW2, db2.\n",
    "    dZ2= A2 - Y\n",
    "    dW2 = (1 / m) * np.dot(dZ2, A1.T)\n",
    "    db2 = (1 / m) * np.sum(dZ2, axis=1, keepdims=True)\n",
    "    dZ1 = np.multiply(np.dot(W2.T, dZ2), 1 - np.power(A1, 2))\n",
    "    dW1 = (1 / m) * np.dot(dZ1, X.T)\n",
    "    db1 = (1 / m) * np.sum(dZ1, axis=1, keepdims=True)\n",
    "    \n",
    "    #Se gurda en un diccionario\n",
    "    grads = {\"dW1\": dW1,\n",
    "             \"db1\": db1,\n",
    "             \"dW2\": dW2,\n",
    "             \"db2\": db2} \n",
    "    return grads #Se retorna el diccionario"
   ]
  },
  {
   "cell_type": "code",
   "execution_count": 13,
   "metadata": {},
   "outputs": [],
   "source": [
    "#Definimos una funcion para actulizar los parametros del paso anterior\n",
    "def update_parameters(parameters, grads, learning_rate=1.2): #Parametros que recibe esa funcion\n",
    "    #Recuperamos los parametros de la funcion 'parameters'\n",
    "    W1 = parameters['W1']\n",
    "    b1 = parameters['b1']\n",
    "    W2 = parameters['W2']\n",
    "    b2 = parameters['b2']\n",
    "    \n",
    "    #Recuperamos los parametros de la funcion 'grads'\n",
    "    dW1 = grads['dW1']\n",
    "    db1 = grads['db1']\n",
    "    dW2 = grads['dW2']\n",
    "    db2 = grads['db2']\n",
    "    \n",
    "    #Se actualiza la regla para cada parametro\n",
    "    W1 = W1 - learning_rate * dW1\n",
    "    b1 = b1 - learning_rate * db1\n",
    "    W2 = W2 - learning_rate * dW2\n",
    "    b2 = b2 - learning_rate * db2\n",
    "    \n",
    "    #Los almacenamos en el diccionario\n",
    "    parameters = {\"W1\": W1,\n",
    "                  \"b1\": b1,\n",
    "                  \"W2\": W2,\n",
    "                  \"b2\": b2}\n",
    "    return parameters #Retornamos el parametro"
   ]
  },
  {
   "cell_type": "code",
   "execution_count": 14,
   "metadata": {},
   "outputs": [],
   "source": [
    "#Hasta este punto se ha realizado lo siguiente para la red neuronal:\n",
    "#1- Inicializar parámetros\n",
    "#2- Propagación hacia adelante\n",
    "#3- Función de costo\n",
    "#4- Propagación hacia atrás\n",
    "#5- Actualizar parámetros\n",
    "#Procedemos a definir la siguiente funcion para continuar nuestra red neuronal\n",
    "def nn_model(X, Y, n_h, num_iterations=10000, print_cost=False):\n",
    "    np.random.seed(3)\n",
    "    n_x = layer_sizes(X, Y)[0]\n",
    "    n_y = layer_sizes(X, Y)[2]\n",
    "    \n",
    "    #Inicializamos parametros, luego recuperamos W1, b1, W2, b2. Las entradas son: \"n_x, n_h, n_y\". Las salidas son: \"W1, b1, W2, b2, parameters\".\n",
    "    parameters = initialize_parameters(n_x, n_h, n_y)\n",
    "    W1 = parameters['W1']\n",
    "    b1 = parameters['b1']\n",
    "    W2 = parameters['W2']\n",
    "    b2 = parameters['b2']\n",
    "    \n",
    "    # Loop (gradient descent)\n",
    "    for i in range(0, num_iterations):\n",
    "         \n",
    "        # Propagación hacia adelante. Entradas: \"X, parámetros\". Salidas: \"A2, caché\". \n",
    "        A2, cache = forward_propagation(X, parameters)\n",
    "        \n",
    "        # Función de costo. Entradas: \"A2, Y, parámetros\". Salidas: \"costo\".\n",
    "        cost = compute_cost(A2, Y, parameters)\n",
    " \n",
    "        # Backpropagation. Entradas: \"parámetros, caché, X, Y\". Salidas: \"graduados\".\n",
    "        grads = backward_propagation(parameters, cache, X, Y)\n",
    " \n",
    "        # Actualización del parámetro de descenso de gradiente. Entradas: \"parámetros, graduados\". Salidas: \"parámetros\". \n",
    "        parameters = update_parameters(parameters, grads)\n",
    "        \n",
    "        #Aqui termina codigo\n",
    "        \n",
    "        # Imprimimos las primeras 1000 iteraciones\n",
    "        if print_cost and i % 1000 == 0:\n",
    "            print (\"Cost after iteration %i: %f\" % (i, cost))\n",
    "    return parameters #,n_h #Retornamos los parametros y costos"
   ]
  },
  {
   "cell_type": "code",
   "execution_count": 24,
   "metadata": {},
   "outputs": [
    {
     "name": "stdout",
     "output_type": "stream",
     "text": [
      "Cost after iteration 0: 0.693225\n",
      "Cost after iteration 1000: 0.648500\n",
      "Cost after iteration 2000: 0.134067\n",
      "Cost after iteration 3000: 0.126904\n",
      "Cost after iteration 4000: 0.121865\n",
      "Cost after iteration 5000: 0.123496\n",
      "Cost after iteration 6000: 0.121045\n",
      "Cost after iteration 7000: 0.113961\n",
      "Cost after iteration 8000: 0.103626\n",
      "Cost after iteration 9000: 0.088409\n"
     ]
    }
   ],
   "source": [
    "parameters = nn_model(X,Y , n_h = 6, num_iterations=10000, print_cost=True)"
   ]
  },
  {
   "cell_type": "code",
   "execution_count": 25,
   "metadata": {},
   "outputs": [],
   "source": [
    "def plot_decision_boundary(model, X, y):\n",
    "    # Set min and max values and give it some padding\n",
    "    x_min, x_max = X[0, :].min() - 0.25, X[0, :].max() + 0.25\n",
    "    y_min, y_max = X[1, :].min() - 0.25, X[1, :].max() + 0.25\n",
    "    h = 0.01\n",
    "    # Generate a grid of points with distance h between them\n",
    "    xx, yy = np.meshgrid(np.arange(x_min, x_max, h), np.arange(y_min, y_max, h))\n",
    "    # Predict the function value for the whole grid\n",
    "    Z = model(np.c_[xx.ravel(), yy.ravel()])\n",
    "    Z = Z.reshape(xx.shape)\n",
    "    # Plot the contour and training examples\n",
    "    plt.contourf(xx, yy, Z, cmap=plt.cm.Spectral)\n",
    "    plt.ylabel('x2')\n",
    "    plt.xlabel('x1')\n",
    "    plt.scatter(X[0, :], X[1, :], c=y, cmap=plt.cm.Spectral)"
   ]
  },
  {
   "cell_type": "code",
   "execution_count": 26,
   "metadata": {},
   "outputs": [],
   "source": [
    "def predict(parameters, X):\n",
    "    A2, cache = forward_propagation(X, parameters)\n",
    "    predictions = np.round(A2)\n",
    "    return predictions"
   ]
  },
  {
   "cell_type": "code",
   "execution_count": 27,
   "metadata": {},
   "outputs": [
    {
     "data": {
      "image/png": "[encoded data removed]",
      "text/plain": [
       "<Figure size 432x288 with 1 Axes>"
      ]
     },
     "metadata": {
      "needs_background": "light"
     },
     "output_type": "display_data"
    }
   ],
   "source": [
    "plot_decision_boundary(lambda x: predict(parameters, x.T), X, Y[0,:])\n",
    "plt.title(\"Decision Boundary for hidden layer size \" + str(6))\n",
    "plt.xlabel('Petal Length')\n",
    "plt.ylabel('Petal Width')\n",
    "plt.show()"
   ]
  },
  {
   "cell_type": "code",
   "execution_count": null,
   "metadata": {},
   "outputs": [],
   "source": []
  }
 ],
 "metadata": {
  "kernelspec": {
   "display_name": "Python 3",
   "language": "python",
   "name": "python3"
  },
  "language_info": {
   "codemirror_mode": {
    "name": "ipython",
    "version": 3
   },
   "file_extension": ".py",
   "mimetype": "text/x-python",
   "name": "python",
   "nbconvert_exporter": "python",
   "pygments_lexer": "ipython3",
   "version": "3.7.6"
  }
 },
 "nbformat": 4,
 "nbformat_minor": 4
}
